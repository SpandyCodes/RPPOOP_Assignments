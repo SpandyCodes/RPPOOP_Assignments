{
 "cells": [
  {
   "cell_type": "code",
   "execution_count": 1,
   "id": "616735c1",
   "metadata": {},
   "outputs": [],
   "source": [
    "# Single inheritance\n",
    "\n",
    "class Parent:\n",
    "    def func(self):\n",
    "        print(\"This function is in parent class.\")\n",
    "        \n",
    "\n",
    "class Child(Parent):\n",
    "    def func1(self):\n",
    "        print(\"This function is in child class.\")"
   ]
  },
  {
   "cell_type": "code",
   "execution_count": 2,
   "id": "38c6624e",
   "metadata": {},
   "outputs": [
    {
     "name": "stdout",
     "output_type": "stream",
     "text": [
      "This function is in parent class.\n",
      "This function is in child class.\n"
     ]
    }
   ],
   "source": [
    "obj = Child()\n",
    "obj.func()\n",
    "obj.func1()"
   ]
  },
  {
   "cell_type": "code",
   "execution_count": 3,
   "id": "63861dbe",
   "metadata": {},
   "outputs": [],
   "source": [
    "# Multiple inheritance\n",
    "\n",
    "class Mother:\n",
    "    mname = \"\"\n",
    " \n",
    "    def mother(self):\n",
    "        print(self.mname)\n",
    " \n",
    " \n",
    "class Father:\n",
    "    fname = \"\"\n",
    " \n",
    "    def father(self):\n",
    "        print(self.fname)\n",
    " \n",
    " \n",
    "class Son(Mother, Father):\n",
    "    def parents(self):\n",
    "        print(\"Father's name :\", self.fname)\n",
    "        print(\"Mother's name :\", self.mname)"
   ]
  },
  {
   "cell_type": "code",
   "execution_count": 4,
   "id": "43b9ed40",
   "metadata": {},
   "outputs": [
    {
     "name": "stdout",
     "output_type": "stream",
     "text": [
      "Father's name : John\n",
      "Mother's name : Mary\n"
     ]
    }
   ],
   "source": [
    "s = Son()\n",
    "s.fname = \"John\"\n",
    "s.mname = \"Mary\"\n",
    "s.parents()"
   ]
  },
  {
   "cell_type": "code",
   "execution_count": 5,
   "id": "0a62fc98",
   "metadata": {},
   "outputs": [],
   "source": [
    "# Multilevel inheritance\n",
    "\n",
    "class Grandfather:\n",
    "    def __init__(self, grandfname):\n",
    "        self.grandfname = grandfname\n",
    "\n",
    "\n",
    "class Father(Grandfather):\n",
    "    def __init__(self, fname, grandfname):\n",
    "        self.fname = fname\n",
    "        Grandfather.__init__(self, grandfname)\n",
    "\n",
    "\n",
    "class Son(Father):\n",
    "    def __init__(self, sname, fname, grandfname):\n",
    "        self.sname = sname\n",
    "        Father.__init__(self, fname, grandfname)\n",
    "\n",
    "    def print_name(self):\n",
    "        print('Grandfather name :', self.grandfname)\n",
    "        print(\"Father name :\", self.fname)\n",
    "        print(\"Son name :\", self.sname)"
   ]
  },
  {
   "cell_type": "code",
   "execution_count": 6,
   "id": "d32f8e2a",
   "metadata": {},
   "outputs": [
    {
     "name": "stdout",
     "output_type": "stream",
     "text": [
      "Sam\n",
      "Grandfather name : Sam\n",
      "Father name : Paul\n",
      "Son name : John\n"
     ]
    }
   ],
   "source": [
    "s = Son('John', 'Paul', 'Sam')\n",
    "print(s.grandfname)\n",
    "s.print_name()"
   ]
  },
  {
   "cell_type": "code",
   "execution_count": 7,
   "id": "bfa1b10f",
   "metadata": {},
   "outputs": [],
   "source": [
    "# Hierarchical inheritance\n",
    "\n",
    "class Parent:\n",
    "    def func(self):\n",
    "        print(\"This function is in parent class.\")\n",
    "\n",
    "\n",
    "class Child1(Parent):\n",
    "    def func1(self):\n",
    "        print(\"This function is in child 1.\")\n",
    "\n",
    "\n",
    "class Child2(Parent):\n",
    "    def func2(self):\n",
    "        print(\"This function is in child 2.\")"
   ]
  },
  {
   "cell_type": "code",
   "execution_count": 8,
   "id": "a5f1c48c",
   "metadata": {},
   "outputs": [
    {
     "name": "stdout",
     "output_type": "stream",
     "text": [
      "This function is in parent class.\n",
      "This function is in child 1.\n",
      "This function is in parent class.\n",
      "This function is in child 2.\n"
     ]
    }
   ],
   "source": [
    "obj1 = Child1()\n",
    "obj2 = Child2()\n",
    "obj1.func()\n",
    "obj1.func1()\n",
    "obj2.func()\n",
    "obj2.func2()"
   ]
  },
  {
   "cell_type": "code",
   "execution_count": 9,
   "id": "5bd8493d",
   "metadata": {},
   "outputs": [],
   "source": [
    "#Hybrid inheritance\n",
    "\n",
    "class PC:\n",
    "    def func1(self):\n",
    "        print('This is PC class')\n",
    "\n",
    "class Laptop(PC):\n",
    "    def func2(self):\n",
    "        print('This is Laptop class inheriting PC class')\n",
    "\n",
    "class Mouse(Laptop):\n",
    "    def func3(self):\n",
    "        print('This is Mouse class inheriting Laptop class')\n",
    "\n",
    "class Student(Mouse, Laptop):\n",
    "    def func4(self):\n",
    "        print('This is Student class inheriting PC and Laptop')"
   ]
  },
  {
   "cell_type": "code",
   "execution_count": 10,
   "id": "b98aabda",
   "metadata": {},
   "outputs": [
    {
     "name": "stdout",
     "output_type": "stream",
     "text": [
      "This is Student class inheriting PC and Laptop\n",
      "This is Mouse class inheriting Laptop class\n"
     ]
    }
   ],
   "source": [
    "obj = Student()\n",
    "obj1 = Mouse()\n",
    "obj.func4()\n",
    "obj.func3()"
   ]
  }
 ],
 "metadata": {
  "kernelspec": {
   "display_name": "Python 3 (ipykernel)",
   "language": "python",
   "name": "python3"
  },
  "language_info": {
   "codemirror_mode": {
    "name": "ipython",
    "version": 3
   },
   "file_extension": ".py",
   "mimetype": "text/x-python",
   "name": "python",
   "nbconvert_exporter": "python",
   "pygments_lexer": "ipython3",
   "version": "3.11.3"
  }
 },
 "nbformat": 4,
 "nbformat_minor": 5
}
