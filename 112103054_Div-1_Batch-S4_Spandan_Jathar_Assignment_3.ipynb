{
 "cells": [
  {
   "cell_type": "code",
   "execution_count": 1,
   "id": "63855542",
   "metadata": {},
   "outputs": [],
   "source": [
    "class Vehicle:\n",
    "\n",
    "    def __init__(self, name, color, price):\n",
    "        self.name = name\n",
    "        self.color = color\n",
    "        self.price = price\n",
    "\n",
    "    def show(self):\n",
    "        print('Details:', self.name, self.color, self.price)\n",
    "\n",
    "    def max_speed(self):\n",
    "        print('Vehicle max speed is 150')\n",
    "\n",
    "    def change_gear(self):\n",
    "        print('Vehicle change 8 gear')\n",
    "        \n",
    "\n",
    "class Car(Vehicle):\n",
    "    def max_speed(self):\n",
    "        print('Car max speed is 240')\n",
    "\n",
    "    def change_gear(self):\n",
    "        print('Car change 6 gear')"
   ]
  },
  {
   "cell_type": "code",
   "execution_count": 2,
   "id": "f3fb4d89",
   "metadata": {},
   "outputs": [
    {
     "name": "stdout",
     "output_type": "stream",
     "text": [
      "Details: Porsche Red 20000\n",
      "Car max speed is 240\n",
      "Car change 6 gear\n"
     ]
    }
   ],
   "source": [
    "car = Car('Porsche', 'Red', 20000)\n",
    "car.show()\n",
    "car.max_speed()\n",
    "car.change_gear()"
   ]
  },
  {
   "cell_type": "code",
   "execution_count": 3,
   "id": "3c47a9cb",
   "metadata": {},
   "outputs": [
    {
     "name": "stdout",
     "output_type": "stream",
     "text": [
      "Details: Truck x1 White 75000\n",
      "Vehicle max speed is 150\n",
      "Vehicle change 8 gear\n"
     ]
    }
   ],
   "source": [
    "truck = Vehicle('Truck x1', 'White', 75000)\n",
    "truck.show()\n",
    "truck.max_speed()\n",
    "truck.change_gear()"
   ]
  }
 ],
 "metadata": {
  "kernelspec": {
   "display_name": "Python 3 (ipykernel)",
   "language": "python",
   "name": "python3"
  },
  "language_info": {
   "codemirror_mode": {
    "name": "ipython",
    "version": 3
   },
   "file_extension": ".py",
   "mimetype": "text/x-python",
   "name": "python",
   "nbconvert_exporter": "python",
   "pygments_lexer": "ipython3",
   "version": "3.11.3"
  }
 },
 "nbformat": 4,
 "nbformat_minor": 5
}
