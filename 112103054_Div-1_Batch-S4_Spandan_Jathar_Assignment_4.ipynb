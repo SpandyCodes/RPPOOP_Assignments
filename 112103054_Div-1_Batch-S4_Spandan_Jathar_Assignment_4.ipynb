{
 "cells": [
  {
   "cell_type": "code",
   "execution_count": 1,
   "id": "4b8d8b9b",
   "metadata": {},
   "outputs": [],
   "source": [
    "class BankAccount:\n",
    "    def __init__(self, name, account_number, account_type, balance=0):\n",
    "        self.name = name\n",
    "        self.account_number = account_number\n",
    "        self.account_type = account_type\n",
    "        self.balance = balance\n",
    "\n",
    "    def deposit(self, amount):\n",
    "        self.balance += amount\n",
    "        print(f\"Amount {amount} deposited into account {self.account_number}.\")\n",
    "    \n",
    "    def withdraw(self, amount):\n",
    "        if self.balance >= amount:\n",
    "            self.balance -= amount\n",
    "            print(f\"Amount {amount} withdrawn from account {self.account_number}.\")\n",
    "        else:\n",
    "            print(\"\\n   !!** Insufficient balance. **!! \")\n",
    "    \n",
    "    def display_details(self):\n",
    "        print(\"******************Account Details***********************\")\n",
    "        print(\"Name:  \", self.name)\n",
    "        print(\"Account Number:  \", self.account_number)\n",
    "        print(\"Account Type:  \", self.account_type)\n",
    "        print(\"Balance:  \", self.balance)\n",
    "        print(\"*********************************************************\")\n",
    "\n",
    "        "
   ]
  },
  {
   "cell_type": "code",
   "execution_count": 2,
   "id": "e43601c4",
   "metadata": {},
   "outputs": [],
   "source": [
    "\n",
    "accounts = {}"
   ]
  },
  {
   "cell_type": "code",
   "execution_count": 3,
   "id": "38a9a58e",
   "metadata": {},
   "outputs": [],
   "source": [
    "def create_account():\n",
    "    name = input(\"Enter name of account holder:\")\n",
    "    account_number = input(\"Enter account number:\")\n",
    "    account_type = input(\"Enter account type (savings or current):\")\n",
    "    balance = float(input(\"Enter initial balance:\"))\n",
    "      \n",
    "    \n",
    "    if account_number in accounts:\n",
    "        print(\"**********Account number already exists. Please choose a different account number.**********\")\n",
    "        return\n",
    "\n",
    "    account = BankAccount(name, account_number, account_type, balance)\n",
    "    accounts[account_number] = account\n",
    "    print(\"------Account created successfully.------\")\n",
    "\n",
    "    "
   ]
  },
  {
   "cell_type": "code",
   "execution_count": 4,
   "id": "6ba0dbaa",
   "metadata": {},
   "outputs": [],
   "source": [
    "\n",
    "def deposit_amount():\n",
    "    account_number = input(\" Enter account number:  \")\n",
    "    if account_number in accounts:\n",
    "        account = accounts[account_number]\n",
    "        amount = float(input(\" Enter amount to deposit: \"))\n",
    "        account.deposit(amount)\n",
    "    else:\n",
    "        print(\" ------- Account does not exist------- \")"
   ]
  },
  {
   "cell_type": "code",
   "execution_count": 5,
   "id": "1dfb78fc",
   "metadata": {},
   "outputs": [],
   "source": [
    "\n",
    "def withdraw_amount():\n",
    "    account_number = input(\"Enter account number:\")\n",
    "    if account_number in accounts:\n",
    "        account = accounts[account_number]\n",
    "        amount = float(input(\"Enter amount to withdraw:\"))\n",
    "        account.withdraw(amount)\n",
    "    else:\n",
    "        print(\" ------- Account does not exist------- \")"
   ]
  },
  {
   "cell_type": "code",
   "execution_count": 6,
   "id": "3fbcfcff",
   "metadata": {},
   "outputs": [],
   "source": [
    "\n",
    "def display_account_details():\n",
    "    account_number = input(\"Enter account number:\")\n",
    "    if account_number in accounts:\n",
    "        account = accounts[account_number]\n",
    "        account.display_details()\n",
    "    else:\n",
    "        print(\" ------- Account does not exist------- \")"
   ]
  },
  {
   "cell_type": "code",
   "execution_count": 7,
   "id": "3601959e",
   "metadata": {},
   "outputs": [],
   "source": [
    "\n",
    "def main():\n",
    "    while True:\n",
    "        print(\"\\nWelcome to the Bank Account Management\\n\")\n",
    "        print(\"1. Create new account\")\n",
    "        print(\"2. Deposit amount\")\n",
    "        print(\"3. Withdraw amount\")\n",
    "        print(\"4. Display account information\")\n",
    "        print(\"5. Exit\\n\")\n",
    "        choice = int(input(\"Enter your choice (1-5):\"))\n",
    "        if choice == 1:\n",
    "            create_account()\n",
    "        elif choice == 2:\n",
    "            deposit_amount()\n",
    "        elif choice == 3:\n",
    "            withdraw_amount()\n",
    "        elif choice == 4:\n",
    "            display_account_details()\n",
    "        elif choice == 5:\n",
    "            print(\"Exiting...\")\n",
    "            break\n",
    "        else:\n",
    "            print(\"Invalid choice. Please try again.\")"
   ]
  },
  {
   "cell_type": "code",
   "execution_count": 8,
   "id": "7371bb62",
   "metadata": {},
   "outputs": [
    {
     "name": "stdout",
     "output_type": "stream",
     "text": [
      "\n",
      "   Welcome to the Bank Account Management   \n",
      "\n",
      "  1. Create new account  \n",
      "  2. Deposit amount  \n",
      "  3. Withdraw amount  \n",
      "  4. Display account information  \n",
      "  5. Exit\n",
      "  \n",
      "Exiting...\n"
     ]
    }
   ],
   "source": [
    "if __name__ == \"__main__\":\n",
    "    main()"
   ]
  }
 ],
 "metadata": {
  "kernelspec": {
   "display_name": "Python 3 (ipykernel)",
   "language": "python",
   "name": "python3"
  },
  "language_info": {
   "codemirror_mode": {
    "name": "ipython",
    "version": 3
   },
   "file_extension": ".py",
   "mimetype": "text/x-python",
   "name": "python",
   "nbconvert_exporter": "python",
   "pygments_lexer": "ipython3",
   "version": "3.11.3"
  }
 },
 "nbformat": 4,
 "nbformat_minor": 5
}
