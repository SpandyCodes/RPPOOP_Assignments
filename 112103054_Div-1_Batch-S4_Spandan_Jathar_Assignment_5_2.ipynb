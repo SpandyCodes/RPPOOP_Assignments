{
 "cells": [
  {
   "cell_type": "code",
   "execution_count": 50,
   "id": "f485e1a0",
   "metadata": {},
   "outputs": [],
   "source": [
    "from tkinter import *"
   ]
  },
  {
   "cell_type": "code",
   "execution_count": 51,
   "id": "6749cf3e",
   "metadata": {},
   "outputs": [
    {
     "data": {
      "text/plain": [
       "''"
      ]
     },
     "execution_count": 51,
     "metadata": {},
     "output_type": "execute_result"
    }
   ],
   "source": [
    "root = Tk()\n",
    "root.title('Menu Demonstration')\n",
    "root.geometry('300x150')\n",
    "root.resizable(False,False)"
   ]
  },
  {
   "cell_type": "code",
   "execution_count": 52,
   "id": "703e90bb",
   "metadata": {},
   "outputs": [],
   "source": [
    "menubar = Menu(root)"
   ]
  },
  {
   "cell_type": "code",
   "execution_count": 53,
   "id": "f355a453",
   "metadata": {},
   "outputs": [],
   "source": [
    "file = Menu(menubar, tearoff=0)\n",
    "menubar.add_cascade(label='File', menu=file)\n",
    "file.add_command(label='New File')\n",
    "file.add_command(label='Open...')\n",
    "file.add_command(label='Save')\n",
    "file.add_separator()\n",
    "file.add_command(label='Exit', command=root.destroy)"
   ]
  },
  {
   "cell_type": "code",
   "execution_count": 54,
   "id": "38ce2939",
   "metadata": {},
   "outputs": [],
   "source": [
    "edit = Menu(menubar, tearoff=0)\n",
    "menubar.add_cascade(label='Edit', menu=edit)\n",
    "edit.add_command(label='Cut')\n",
    "edit.add_command(label='Copy')\n",
    "edit.add_command(label='Paste')\n",
    "edit.add_command(label='Select All')\n",
    "edit.add_separator()\n",
    "edit.add_command(label='Find...')\n",
    "edit.add_command(label='Find again')"
   ]
  },
  {
   "cell_type": "code",
   "execution_count": 55,
   "id": "8fe26cf1",
   "metadata": {},
   "outputs": [],
   "source": [
    "help_ = Menu(menubar, tearoff=0)\n",
    "menubar.add_cascade(label='Help', menu=help_)\n",
    "help_.add_command(label='Tk Help')\n",
    "help_.add_command(label='Demo')\n",
    "help_.add_separator()\n",
    "help_.add_command(label='About Tk')"
   ]
  },
  {
   "cell_type": "code",
   "execution_count": 56,
   "id": "53ad09ce",
   "metadata": {},
   "outputs": [],
   "source": [
    "root.config(menu=menubar)\n",
    "mainloop()"
   ]
  }
 ],
 "metadata": {
  "kernelspec": {
   "display_name": "Python 3 (ipykernel)",
   "language": "python",
   "name": "python3"
  },
  "language_info": {
   "codemirror_mode": {
    "name": "ipython",
    "version": 3
   },
   "file_extension": ".py",
   "mimetype": "text/x-python",
   "name": "python",
   "nbconvert_exporter": "python",
   "pygments_lexer": "ipython3",
   "version": "3.11.3"
  }
 },
 "nbformat": 4,
 "nbformat_minor": 5
}
