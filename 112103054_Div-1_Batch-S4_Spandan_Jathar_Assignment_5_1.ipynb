{
 "cells": [
  {
   "cell_type": "code",
   "execution_count": 1,
   "id": "b7334520",
   "metadata": {},
   "outputs": [],
   "source": [
    "from tkinter import *"
   ]
  },
  {
   "cell_type": "code",
   "execution_count": 2,
   "id": "f36bb807",
   "metadata": {},
   "outputs": [
    {
     "data": {
      "text/plain": [
       "''"
      ]
     },
     "execution_count": 2,
     "metadata": {},
     "output_type": "execute_result"
    }
   ],
   "source": [
    "root = Tk()\n",
    "root.title(\"Labels with different colors\")\n",
    "root.geometry(\"325x150\")\n",
    "root.resizable(False,False)"
   ]
  },
  {
   "cell_type": "code",
   "execution_count": 3,
   "id": "cbc3c499",
   "metadata": {},
   "outputs": [],
   "source": [
    "label1=Label(root, text=\"Label 1\",bg='red',fg='white',width=22,height=10)\n",
    "label1.grid(row = 0, column=0)"
   ]
  },
  {
   "cell_type": "code",
   "execution_count": 4,
   "id": "a5be8777",
   "metadata": {},
   "outputs": [],
   "source": [
    "label2=Label(root, text=\"Label 2\", bg='blue',fg='white',width=23,height=10)\n",
    "label2.grid(row=0, column=1)"
   ]
  },
  {
   "cell_type": "code",
   "execution_count": 5,
   "id": "d98d0a74",
   "metadata": {},
   "outputs": [],
   "source": [
    "root.mainloop()"
   ]
  }
 ],
 "metadata": {
  "kernelspec": {
   "display_name": "Python 3 (ipykernel)",
   "language": "python",
   "name": "python3"
  },
  "language_info": {
   "codemirror_mode": {
    "name": "ipython",
    "version": 3
   },
   "file_extension": ".py",
   "mimetype": "text/x-python",
   "name": "python",
   "nbconvert_exporter": "python",
   "pygments_lexer": "ipython3",
   "version": "3.11.3"
  }
 },
 "nbformat": 4,
 "nbformat_minor": 5
}
