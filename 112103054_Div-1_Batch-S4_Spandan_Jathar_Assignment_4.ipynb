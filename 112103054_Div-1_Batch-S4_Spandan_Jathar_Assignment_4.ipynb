{
 "cells": [
  {
   "cell_type": "code",
   "execution_count": 1,
   "id": "83daab93",
   "metadata": {},
   "outputs": [],
   "source": [
    "class Account():\n",
    "    def __init__(self):\n",
    "        self.__balance=0\n",
    "        print('Your Account is Created.')\n",
    "    def deposit(self):\n",
    "        amount=int(input('Enter the amount to deposit:'))\n",
    "        self.__balance+=amount\n",
    "        print('Your New Balance =%.2f' %self.__balance)\n",
    "    def withdraw(self):\n",
    "        amount=int(input('Enter the amount to withdraw:'))\n",
    "        if(amount>self.__balance):\n",
    "            print('Insufficient Balance!')\n",
    "        else:\n",
    "            self.__balance-=amount\n",
    "            print('Your Remaining Balance =%.2f' %self.__balance)\n",
    "    def enquiry(self):\n",
    "        print('Your Balance =%.2f' %self.__balance)"
   ]
  },
  {
   "cell_type": "code",
   "execution_count": 2,
   "id": "c09dd4f0",
   "metadata": {},
   "outputs": [
    {
     "name": "stdout",
     "output_type": "stream",
     "text": [
      "Your Account is Created.\n",
      "Your New Balance =1000.00\n",
      "Your Remaining Balance =550.00\n",
      "Your Balance =550.00\n"
     ]
    }
   ],
   "source": [
    "account= Account()\n",
    "account.deposit()\n",
    "account.withdraw()\n",
    "account.enquiry()"
   ]
  }
 ],
 "metadata": {
  "kernelspec": {
   "display_name": "Python 3 (ipykernel)",
   "language": "python",
   "name": "python3"
  },
  "language_info": {
   "codemirror_mode": {
    "name": "ipython",
    "version": 3
   },
   "file_extension": ".py",
   "mimetype": "text/x-python",
   "name": "python",
   "nbconvert_exporter": "python",
   "pygments_lexer": "ipython3",
   "version": "3.11.3"
  }
 },
 "nbformat": 4,
 "nbformat_minor": 5
}
